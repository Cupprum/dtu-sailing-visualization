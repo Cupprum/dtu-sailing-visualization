{
 "cells": [
  {
   "cell_type": "code",
   "execution_count": null,
   "metadata": {},
   "outputs": [],
   "source": [
    "# Import libraries\n",
    "import duckdb\n",
    "import pandas as pd"
   ]
  },
  {
   "cell_type": "code",
   "execution_count": null,
   "metadata": {},
   "outputs": [],
   "source": [
    "# Load the data into duckdb\n",
    "data = duckdb.read_csv(\"data/2024.csv\")\n",
    "data.show()\n"
   ]
  },
  {
   "cell_type": "code",
   "execution_count": null,
   "metadata": {},
   "outputs": [],
   "source": [
    "# Get first and last dates\n",
    "first_date = data.aggregate('MIN(\"Spille dato\") as first').fetchall()[0][0]\n",
    "last_date = data.aggregate('MAX(\"Spille dato\") as last').fetchall()[0][0]\n",
    "\n",
    "first_date = pd.to_datetime(first_date)\n",
    "last_date = pd.to_datetime(last_date)\n",
    "\n",
    "days_between = (last_date - first_date).days\n",
    "\n",
    "# Calculate weekends (Saturdays and Sundays)\n",
    "dates_range = pd.date_range(first_date, last_date)\n",
    "weekends = sum(date.weekday() >= 5 for date in dates_range)\n",
    "weekends = int(weekends / 2)\n",
    "\n",
    "# Print interesting information about dates\n",
    "print(f\"First date: {first_date.date()}\")\n",
    "print(f\"Last date: {last_date.date()}\")\n",
    "print(f\"Days between: {days_between}\")\n",
    "print(f\"Number of weekends: {weekends}\")"
   ]
  },
  {
   "cell_type": "code",
   "execution_count": null,
   "metadata": {},
   "outputs": [],
   "source": [
    "# Rental is unique combination of renter (Name), date (Spille dato), and boat (Omrade)\n",
    "rentals = duckdb.sql('''\n",
    "    SELECT \n",
    "        COUNT(DISTINCT \"Name\" || \"Spille dato\" || \"Område\") as unique_rentals\n",
    "    FROM data\n",
    "''').fetchall()[0][0]\n",
    "\n",
    "print(f\"Total number of rentals: {rentals}\")"
   ]
  },
  {
   "cell_type": "code",
   "execution_count": null,
   "metadata": {},
   "outputs": [],
   "source": [
    "renters = duckdb.sql('''\n",
    "    SELECT COUNT(DISTINCT \"Name\") as unique_renters\n",
    "    FROM data\n",
    "''').fetchall()[0][0]\n",
    "\n",
    "print(f\"Number of renters: {renters}\")"
   ]
  }
 ],
 "metadata": {
  "kernelspec": {
   "display_name": ".venv",
   "language": "python",
   "name": "python3"
  },
  "language_info": {
   "codemirror_mode": {
    "name": "ipython",
    "version": 3
   },
   "file_extension": ".py",
   "mimetype": "text/x-python",
   "name": "python",
   "nbconvert_exporter": "python",
   "pygments_lexer": "ipython3",
   "version": "3.13.2"
  }
 },
 "nbformat": 4,
 "nbformat_minor": 2
}
